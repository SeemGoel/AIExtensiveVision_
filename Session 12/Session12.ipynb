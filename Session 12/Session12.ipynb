{
  "nbformat": 4,
  "nbformat_minor": 0,
  "metadata": {
    "colab": {
      "provenance": [],
      "gpuType": "T4"
    },
    "kernelspec": {
      "name": "python3",
      "display_name": "Python 3"
    },
    "language_info": {
      "name": "python"
    },
    "accelerator": "GPU"
  },
  "cells": [
    {
      "cell_type": "code",
      "execution_count": 2,
      "metadata": {
        "colab": {
          "base_uri": "https://localhost:8080/"
        },
        "id": "aObUnB9oFDzJ",
        "outputId": "36cbdf72-db58-4542-97d3-aabb45eed288"
      },
      "outputs": [
        {
          "output_type": "stream",
          "name": "stdout",
          "text": [
            "Mounted at /content/gdrive\n"
          ]
        }
      ],
      "source": [
        "from google.colab import drive\n",
        "drive.mount(\"/content/gdrive\")"
      ]
    },
    {
      "cell_type": "code",
      "source": [
        "#weights hack\n",
        "#Download from: https://drive.google.com/file/d/1vRDkpAiNdqHORTUImkrpD7kK_DkCcMus/view?usp=share_link\n",
        "#!gdown 1vRDkpAiNdqHORTUImkrpD7kK_DkCcMus"
      ],
      "metadata": {
        "id": "Q-Wnv46WuKfA"
      },
      "execution_count": null,
      "outputs": []
    },
    {
      "cell_type": "code",
      "source": [
        "%cd '/content/gdrive/MyDrive/ERA V2/YoloV3'"
      ],
      "metadata": {
        "colab": {
          "base_uri": "https://localhost:8080/"
        },
        "id": "ggTaAwYBFQhK",
        "outputId": "aafd8e61-3bf1-4b75-86e0-00e9a83863a9"
      },
      "execution_count": 2,
      "outputs": [
        {
          "output_type": "stream",
          "name": "stdout",
          "text": [
            "/content/gdrive/MyDrive/ERA V2/YoloV3\n"
          ]
        }
      ]
    },
    {
      "cell_type": "code",
      "source": [],
      "metadata": {
        "id": "I9S8SGdD9tjk"
      },
      "execution_count": null,
      "outputs": []
    },
    {
      "cell_type": "code",
      "source": [
        "# if image_shapes:\n",
        "#   for filename, shape in image_shapes.items():\n",
        "#     print(f\"Image: {filename}, Shape: {shape}\")\n",
        "# else:\n",
        "#   print(\"No images found in the directory.\")"
      ],
      "metadata": {
        "id": "-gtZ0ov8Lncm"
      },
      "execution_count": null,
      "outputs": []
    },
    {
      "cell_type": "code",
      "source": [
        "# ls \"/content/gdrive/MyDrive/ERA V2/YoloV3/YoloV3/data/customdata\""
      ],
      "metadata": {
        "id": "QykoxF7NDi3K"
      },
      "execution_count": null,
      "outputs": []
    },
    {
      "cell_type": "code",
      "source": [
        "# /content/gdrive/MyDrive/ERA V2/YoloV3/YoloV3/data/customdata/custom_shapes"
      ],
      "metadata": {
        "id": "Epo96a8zD7Dk"
      },
      "execution_count": null,
      "outputs": []
    },
    {
      "cell_type": "code",
      "source": [
        "# ! git clone https://github.com/theschoolofai/YoloV3.git\n",
        "# ! git pull"
      ],
      "metadata": {
        "id": "cSlJsfYUF9dW"
      },
      "execution_count": null,
      "outputs": []
    },
    {
      "cell_type": "code",
      "source": [
        "!python \"/content/gdrive/MyDrive/ERA V2/YoloV3/YoloV3/train.py\" --data \"/content/gdrive/MyDrive/ERA V2/YoloV3/YoloV3/data/customdata/custom.data\" --batch 15 --cache --epochs 200 --nosave"
      ],
      "metadata": {
        "id": "jViUzfxgyots",
        "colab": {
          "base_uri": "https://localhost:8080/"
        },
        "outputId": "0e543075-565c-4e45-93d7-c8a49d64ddbe"
      },
      "execution_count": null,
      "outputs": [
        {
          "output_type": "stream",
          "name": "stdout",
          "text": [
            "Namespace(epochs=200, batch_size=15, accumulate=4, cfg='/content/gdrive/MyDrive/ERA V2/YoloV3/YoloV3/cfg/yolov3-spp.cfg', data='/content/gdrive/MyDrive/ERA V2/YoloV3/YoloV3/data/customdata/custom.data', multi_scale=False, img_size=[512], rect=False, resume=False, nosave=True, notest=False, evolve=False, bucket='', cache_images=True, weights='/content/gdrive/MyDrive/ERA V2/YoloV3/YoloV3/weights/yolov3-spp-ultralytics.pt', name='', device='', adam=False, single_cls=False)\n",
            "Using CPU\n",
            "\n",
            "2024-04-26 19:21:44.973371: E external/local_xla/xla/stream_executor/cuda/cuda_dnn.cc:9261] Unable to register cuDNN factory: Attempting to register factory for plugin cuDNN when one has already been registered\n",
            "2024-04-26 19:21:44.973441: E external/local_xla/xla/stream_executor/cuda/cuda_fft.cc:607] Unable to register cuFFT factory: Attempting to register factory for plugin cuFFT when one has already been registered\n",
            "2024-04-26 19:21:44.975714: E external/local_xla/xla/stream_executor/cuda/cuda_blas.cc:1515] Unable to register cuBLAS factory: Attempting to register factory for plugin cuBLAS when one has already been registered\n",
            "2024-04-26 19:21:46.692860: W tensorflow/compiler/tf2tensorrt/utils/py_utils.cc:38] TF-TRT Warning: Could not find TensorRT\n",
            "Run 'tensorboard --logdir=runs' to view tensorboard at http://localhost:6006/\n",
            "WARNING: smart bias initialization failure.\n",
            "WARNING: smart bias initialization failure.\n",
            "WARNING: smart bias initialization failure.\n",
            "Model Summary: 225 layers, 6.29987e+07 parameters, 6.29987e+07 gradients\n",
            "Caching labels (90 found, 0 missing, 0 empty, 0 duplicate, for 90 images): 100% 90/90 [01:05<00:00,  1.37it/s]\n",
            "Caching images (0.1GB): 100% 90/90 [01:09<00:00,  1.30it/s]\n",
            "Caching labels (90 found, 0 missing, 0 empty, 0 duplicate, for 90 images): 100% 90/90 [00:00<00:00, 246.16it/s]\n",
            "Caching images (0.0GB): 100% 90/90 [00:00<00:00, 108.19it/s]\n",
            "Image sizes 512 - 512 train, 512 test\n",
            "Using 2 dataloader workers\n",
            "Starting training for 200 epochs...\n",
            "\n",
            "     Epoch   gpu_mem      GIoU       obj       cls     total   targets  img_size\n",
            "/usr/lib/python3.10/multiprocessing/popen_fork.py:66: RuntimeWarning: os.fork() was called. os.fork() is incompatible with multithreaded code, and JAX is multithreaded, so this will likely lead to a deadlock.\n",
            "  self.pid = os.fork()\n",
            "     0/199        0G         0     0.337         0     0.337        42       512:   0% 0/6 [02:04<?, ?it/s]ns: 4\n",
            "     0/199        0G         0      0.37         0      0.37        42       512:  33% 2/6 [04:06<08:08, 122.23s/it]"
          ]
        }
      ]
    },
    {
      "cell_type": "markdown",
      "source": [],
      "metadata": {
        "id": "yAlkqYWgqq2x"
      }
    },
    {
      "cell_type": "code",
      "source": [
        "!python \"/content/gdrive/MyDrive/ERA V2/YoloV3/YoloV3/test.py\""
      ],
      "metadata": {
        "colab": {
          "base_uri": "https://localhost:8080/"
        },
        "id": "dLNDX9pCIVpX",
        "outputId": "f3c8a280-13f7-40c4-eb2a-2a557101a45f"
      },
      "execution_count": 3,
      "outputs": [
        {
          "output_type": "stream",
          "name": "stdout",
          "text": [
            "Namespace(cfg='/content/gdrive/MyDrive/ERA V2/YoloV3/YoloV3/cfg/yolov3-spp.cfg', data='/content/gdrive/MyDrive/ERA V2/YoloV3/YoloV3/data/customdata/custom.data', weights='/content/gdrive/MyDrive/ERA V2/YoloV3/YoloV3/weights/yolov3-spp-ultralytics.pt', batch_size=16, img_size=416, conf_thres=0.001, iou_thres=0.6, save_json=False, task='test', device='', single_cls=False, augment=False)\n",
            "Using CPU\n",
            "\n",
            "WARNING: smart bias initialization failure.\n",
            "WARNING: smart bias initialization failure.\n",
            "WARNING: smart bias initialization failure.\n",
            "Model Summary: 225 layers, 6.29987e+07 parameters, 6.29987e+07 gradients\n",
            "Fusing layers...\n",
            "Model Summary: 152 layers, 6.29719e+07 parameters, 6.29719e+07 gradients\n",
            "Caching labels (90 found, 0 missing, 0 empty, 0 duplicate, for 90 images): 100% 90/90 [00:58<00:00,  1.55it/s]\n",
            "               Class    Images   Targets         P         R   mAP@0.5        F1:   0% 0/6 [00:00<?, ?it/s]/usr/lib/python3.10/multiprocessing/popen_fork.py:66: RuntimeWarning: os.fork() was called. os.fork() is incompatible with multithreaded code, and JAX is multithreaded, so this will likely lead to a deadlock.\n",
            "  self.pid = os.fork()\n",
            "ns: 4\n",
            "/usr/local/lib/python3.10/dist-packages/torch/functional.py:507: UserWarning: torch.meshgrid: in an upcoming release, it will be required to pass the indexing argument. (Triggered internally at ../aten/src/ATen/native/TensorShape.cpp:3549.)\n",
            "  return _VF.meshgrid(tensors, **kwargs)  # type: ignore[attr-defined]\n",
            "               Class    Images   Targets         P         R   mAP@0.5        F1: 100% 6/6 [02:25<00:00, 24.21s/it]\n",
            "                 all        90       123         0         0  0.000832         0\n",
            "Speed: 1469.5/2.2/1471.8 ms inference/NMS/total per 416x416 image at batch-size 16\n",
            "/content/gdrive/MyDrive/ERA V2/YoloV3/YoloV3/test.py:198: DeprecationWarning: Conversion of an array with ndim > 0 to a scalar is deprecated, and will error in future. Ensure you extract a single element from your array before performing this operation. (Deprecated NumPy 1.25.)\n",
            "  maps[c] = ap[i]\n"
          ]
        }
      ]
    },
    {
      "cell_type": "code",
      "source": [
        "!python \"/content/gdrive/MyDrive/ERA V2/YoloV3/YoloV3/detect.py\""
      ],
      "metadata": {
        "id": "nJnA1f1tNFkL"
      },
      "execution_count": null,
      "outputs": []
    },
    {
      "cell_type": "code",
      "source": [
        "!python \"/content/gdrive/MyDrive/ERA V2/YoloV3/YoloV3/train.py\" --data \"/content/gdrive/MyDrive/ERA V2/YoloV3/YoloV3/data/customdata/custom.data\" --batch 15 --cache --epochs 100"
      ],
      "metadata": {
        "id": "acGOJB1UGQWV"
      },
      "execution_count": null,
      "outputs": []
    },
    {
      "cell_type": "code",
      "source": [
        "!python \"/content/gdrive/MyDrive/ERA V2/YoloV3/YoloV3/train.py\" --data \"/content/gdrive/MyDrive/ERA V2/YoloV3/YoloV3/data/smalcoco/smalcoco.data\" --batch 10 --cache --epochs 25 --nosave"
      ],
      "metadata": {
        "id": "ZC84SsUWGx4F"
      },
      "execution_count": null,
      "outputs": []
    },
    {
      "cell_type": "code",
      "source": [],
      "metadata": {
        "id": "HYguVixhRey2"
      },
      "execution_count": null,
      "outputs": []
    }
  ]
}